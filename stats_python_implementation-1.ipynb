{
 "cells": [
  {
   "cell_type": "code",
   "execution_count": 1,
   "id": "1f79ce7b-69aa-4ac8-a0a1-4b2fbe5ea278",
   "metadata": {},
   "outputs": [
    {
     "data": {
      "text/plain": [
       "[1, 2, 3, 4, 5]"
      ]
     },
     "execution_count": 1,
     "metadata": {},
     "output_type": "execute_result"
    }
   ],
   "source": [
    "data = [1, 2, 3, 4, 5]\n",
    "data"
   ]
  },
  {
   "cell_type": "code",
   "execution_count": 2,
   "id": "f2adca09-8018-417e-99af-2a371bb26a31",
   "metadata": {},
   "outputs": [],
   "source": [
    "import pandas as pd\n",
    "import numpy as np\n",
    "import seaborn as sns"
   ]
  },
  {
   "cell_type": "code",
   "execution_count": 3,
   "id": "09770869-a9a2-42a6-9585-c482092de159",
   "metadata": {},
   "outputs": [
    {
     "data": {
      "text/plain": [
       "3.0"
      ]
     },
     "execution_count": 3,
     "metadata": {},
     "output_type": "execute_result"
    }
   ],
   "source": [
    "np.mean(data)"
   ]
  },
  {
   "cell_type": "code",
   "execution_count": 4,
   "id": "52c47405-53db-4b7c-864d-c8d79e16f641",
   "metadata": {},
   "outputs": [
    {
     "data": {
      "text/html": [
       "<div>\n",
       "<style scoped>\n",
       "    .dataframe tbody tr th:only-of-type {\n",
       "        vertical-align: middle;\n",
       "    }\n",
       "\n",
       "    .dataframe tbody tr th {\n",
       "        vertical-align: top;\n",
       "    }\n",
       "\n",
       "    .dataframe thead th {\n",
       "        text-align: right;\n",
       "    }\n",
       "</style>\n",
       "<table border=\"1\" class=\"dataframe\">\n",
       "  <thead>\n",
       "    <tr style=\"text-align: right;\">\n",
       "      <th></th>\n",
       "      <th>total_bill</th>\n",
       "      <th>tip</th>\n",
       "      <th>sex</th>\n",
       "      <th>smoker</th>\n",
       "      <th>day</th>\n",
       "      <th>time</th>\n",
       "      <th>size</th>\n",
       "    </tr>\n",
       "  </thead>\n",
       "  <tbody>\n",
       "    <tr>\n",
       "      <th>0</th>\n",
       "      <td>16.99</td>\n",
       "      <td>1.01</td>\n",
       "      <td>Female</td>\n",
       "      <td>No</td>\n",
       "      <td>Sun</td>\n",
       "      <td>Dinner</td>\n",
       "      <td>2</td>\n",
       "    </tr>\n",
       "    <tr>\n",
       "      <th>1</th>\n",
       "      <td>10.34</td>\n",
       "      <td>1.66</td>\n",
       "      <td>Male</td>\n",
       "      <td>No</td>\n",
       "      <td>Sun</td>\n",
       "      <td>Dinner</td>\n",
       "      <td>3</td>\n",
       "    </tr>\n",
       "    <tr>\n",
       "      <th>2</th>\n",
       "      <td>21.01</td>\n",
       "      <td>3.50</td>\n",
       "      <td>Male</td>\n",
       "      <td>No</td>\n",
       "      <td>Sun</td>\n",
       "      <td>Dinner</td>\n",
       "      <td>3</td>\n",
       "    </tr>\n",
       "    <tr>\n",
       "      <th>3</th>\n",
       "      <td>23.68</td>\n",
       "      <td>3.31</td>\n",
       "      <td>Male</td>\n",
       "      <td>No</td>\n",
       "      <td>Sun</td>\n",
       "      <td>Dinner</td>\n",
       "      <td>2</td>\n",
       "    </tr>\n",
       "    <tr>\n",
       "      <th>4</th>\n",
       "      <td>24.59</td>\n",
       "      <td>3.61</td>\n",
       "      <td>Female</td>\n",
       "      <td>No</td>\n",
       "      <td>Sun</td>\n",
       "      <td>Dinner</td>\n",
       "      <td>4</td>\n",
       "    </tr>\n",
       "    <tr>\n",
       "      <th>...</th>\n",
       "      <td>...</td>\n",
       "      <td>...</td>\n",
       "      <td>...</td>\n",
       "      <td>...</td>\n",
       "      <td>...</td>\n",
       "      <td>...</td>\n",
       "      <td>...</td>\n",
       "    </tr>\n",
       "    <tr>\n",
       "      <th>239</th>\n",
       "      <td>29.03</td>\n",
       "      <td>5.92</td>\n",
       "      <td>Male</td>\n",
       "      <td>No</td>\n",
       "      <td>Sat</td>\n",
       "      <td>Dinner</td>\n",
       "      <td>3</td>\n",
       "    </tr>\n",
       "    <tr>\n",
       "      <th>240</th>\n",
       "      <td>27.18</td>\n",
       "      <td>2.00</td>\n",
       "      <td>Female</td>\n",
       "      <td>Yes</td>\n",
       "      <td>Sat</td>\n",
       "      <td>Dinner</td>\n",
       "      <td>2</td>\n",
       "    </tr>\n",
       "    <tr>\n",
       "      <th>241</th>\n",
       "      <td>22.67</td>\n",
       "      <td>2.00</td>\n",
       "      <td>Male</td>\n",
       "      <td>Yes</td>\n",
       "      <td>Sat</td>\n",
       "      <td>Dinner</td>\n",
       "      <td>2</td>\n",
       "    </tr>\n",
       "    <tr>\n",
       "      <th>242</th>\n",
       "      <td>17.82</td>\n",
       "      <td>1.75</td>\n",
       "      <td>Male</td>\n",
       "      <td>No</td>\n",
       "      <td>Sat</td>\n",
       "      <td>Dinner</td>\n",
       "      <td>2</td>\n",
       "    </tr>\n",
       "    <tr>\n",
       "      <th>243</th>\n",
       "      <td>18.78</td>\n",
       "      <td>3.00</td>\n",
       "      <td>Female</td>\n",
       "      <td>No</td>\n",
       "      <td>Thur</td>\n",
       "      <td>Dinner</td>\n",
       "      <td>2</td>\n",
       "    </tr>\n",
       "  </tbody>\n",
       "</table>\n",
       "<p>244 rows × 7 columns</p>\n",
       "</div>"
      ],
      "text/plain": [
       "     total_bill   tip     sex smoker   day    time  size\n",
       "0         16.99  1.01  Female     No   Sun  Dinner     2\n",
       "1         10.34  1.66    Male     No   Sun  Dinner     3\n",
       "2         21.01  3.50    Male     No   Sun  Dinner     3\n",
       "3         23.68  3.31    Male     No   Sun  Dinner     2\n",
       "4         24.59  3.61  Female     No   Sun  Dinner     4\n",
       "..          ...   ...     ...    ...   ...     ...   ...\n",
       "239       29.03  5.92    Male     No   Sat  Dinner     3\n",
       "240       27.18  2.00  Female    Yes   Sat  Dinner     2\n",
       "241       22.67  2.00    Male    Yes   Sat  Dinner     2\n",
       "242       17.82  1.75    Male     No   Sat  Dinner     2\n",
       "243       18.78  3.00  Female     No  Thur  Dinner     2\n",
       "\n",
       "[244 rows x 7 columns]"
      ]
     },
     "execution_count": 4,
     "metadata": {},
     "output_type": "execute_result"
    }
   ],
   "source": [
    "df = sns.load_dataset('tips')\n",
    "df"
   ]
  },
  {
   "cell_type": "code",
   "execution_count": 5,
   "id": "4f7fbaf6-8085-44f6-8665-d8269f13692e",
   "metadata": {},
   "outputs": [
    {
     "data": {
      "text/plain": [
       "2.99827868852459"
      ]
     },
     "execution_count": 5,
     "metadata": {},
     "output_type": "execute_result"
    }
   ],
   "source": [
    "np.mean(df['tip'])"
   ]
  },
  {
   "cell_type": "code",
   "execution_count": 6,
   "id": "badad4a9-6db8-4047-8399-8011ec0f47f7",
   "metadata": {},
   "outputs": [
    {
     "name": "stdout",
     "output_type": "stream",
     "text": [
      "<class 'pandas.core.frame.DataFrame'>\n",
      "RangeIndex: 244 entries, 0 to 243\n",
      "Data columns (total 7 columns):\n",
      " #   Column      Non-Null Count  Dtype   \n",
      "---  ------      --------------  -----   \n",
      " 0   total_bill  244 non-null    float64 \n",
      " 1   tip         244 non-null    float64 \n",
      " 2   sex         244 non-null    category\n",
      " 3   smoker      244 non-null    category\n",
      " 4   day         244 non-null    category\n",
      " 5   time        244 non-null    category\n",
      " 6   size        244 non-null    int64   \n",
      "dtypes: category(4), float64(2), int64(1)\n",
      "memory usage: 7.4 KB\n"
     ]
    }
   ],
   "source": [
    "df.info()"
   ]
  },
  {
   "cell_type": "code",
   "execution_count": 7,
   "id": "46eb32fe-4621-478c-a80d-671aa44e2c26",
   "metadata": {},
   "outputs": [
    {
     "data": {
      "text/plain": [
       "3.0"
      ]
     },
     "execution_count": 7,
     "metadata": {},
     "output_type": "execute_result"
    }
   ],
   "source": [
    "np.median(data)"
   ]
  },
  {
   "cell_type": "code",
   "execution_count": 8,
   "id": "8df4a6bb-893b-44e3-a5e7-d98fdc3b4b64",
   "metadata": {},
   "outputs": [
    {
     "data": {
      "text/plain": [
       "[1, 2, 3, 4, 5]"
      ]
     },
     "execution_count": 8,
     "metadata": {},
     "output_type": "execute_result"
    }
   ],
   "source": [
    "data"
   ]
  },
  {
   "cell_type": "code",
   "execution_count": 9,
   "id": "0d73dbd4-6e9b-4302-b942-4e0ad2a7a04d",
   "metadata": {},
   "outputs": [
    {
     "data": {
      "text/plain": [
       "2.9"
      ]
     },
     "execution_count": 9,
     "metadata": {},
     "output_type": "execute_result"
    }
   ],
   "source": [
    "np.median(df['tip'])"
   ]
  },
  {
   "cell_type": "code",
   "execution_count": 10,
   "id": "65133b25-088d-48d5-b9d4-591d994493fb",
   "metadata": {},
   "outputs": [],
   "source": [
    "#mean is inflated by outlier whereas median is not inflated"
   ]
  },
  {
   "cell_type": "code",
   "execution_count": 11,
   "id": "170b13f5-242e-4464-b961-a12d85261ed4",
   "metadata": {},
   "outputs": [
    {
     "data": {
      "text/plain": [
       "102.0"
      ]
     },
     "execution_count": 11,
     "metadata": {},
     "output_type": "execute_result"
    }
   ],
   "source": [
    "data = [1, 2, 3, 4, 500]\n",
    "np.mean(data)"
   ]
  },
  {
   "cell_type": "code",
   "execution_count": 12,
   "id": "a0af0abf-b93d-4d2e-8e92-0ac5417899f1",
   "metadata": {},
   "outputs": [
    {
     "data": {
      "text/plain": [
       "3.0"
      ]
     },
     "execution_count": 12,
     "metadata": {},
     "output_type": "execute_result"
    }
   ],
   "source": [
    "np.median(data)"
   ]
  },
  {
   "cell_type": "code",
   "execution_count": 13,
   "id": "f064f1b4-cc0c-4e30-bc8d-d45e4e42c40a",
   "metadata": {},
   "outputs": [],
   "source": [
    "# data = [1, 2, 1, 100, 100, 100, 3, 4, 78]\n",
    "# np.mode(data) # throw an error"
   ]
  },
  {
   "cell_type": "code",
   "execution_count": 14,
   "id": "ac376b52-f927-4dbd-9edb-44d759d20de5",
   "metadata": {},
   "outputs": [
    {
     "data": {
      "text/plain": [
       "1"
      ]
     },
     "execution_count": 14,
     "metadata": {},
     "output_type": "execute_result"
    }
   ],
   "source": [
    "import statistics\n",
    "statistics.mode(data)"
   ]
  },
  {
   "cell_type": "code",
   "execution_count": 15,
   "id": "ff0269c3-3b64-482c-990a-2e9acab13001",
   "metadata": {},
   "outputs": [
    {
     "data": {
      "text/html": [
       "<div>\n",
       "<style scoped>\n",
       "    .dataframe tbody tr th:only-of-type {\n",
       "        vertical-align: middle;\n",
       "    }\n",
       "\n",
       "    .dataframe tbody tr th {\n",
       "        vertical-align: top;\n",
       "    }\n",
       "\n",
       "    .dataframe thead th {\n",
       "        text-align: right;\n",
       "    }\n",
       "</style>\n",
       "<table border=\"1\" class=\"dataframe\">\n",
       "  <thead>\n",
       "    <tr style=\"text-align: right;\">\n",
       "      <th></th>\n",
       "      <th>total_bill</th>\n",
       "      <th>tip</th>\n",
       "      <th>sex</th>\n",
       "      <th>smoker</th>\n",
       "      <th>day</th>\n",
       "      <th>time</th>\n",
       "      <th>size</th>\n",
       "    </tr>\n",
       "  </thead>\n",
       "  <tbody>\n",
       "    <tr>\n",
       "      <th>0</th>\n",
       "      <td>16.99</td>\n",
       "      <td>1.01</td>\n",
       "      <td>Female</td>\n",
       "      <td>No</td>\n",
       "      <td>Sun</td>\n",
       "      <td>Dinner</td>\n",
       "      <td>2</td>\n",
       "    </tr>\n",
       "    <tr>\n",
       "      <th>1</th>\n",
       "      <td>10.34</td>\n",
       "      <td>1.66</td>\n",
       "      <td>Male</td>\n",
       "      <td>No</td>\n",
       "      <td>Sun</td>\n",
       "      <td>Dinner</td>\n",
       "      <td>3</td>\n",
       "    </tr>\n",
       "    <tr>\n",
       "      <th>2</th>\n",
       "      <td>21.01</td>\n",
       "      <td>3.50</td>\n",
       "      <td>Male</td>\n",
       "      <td>No</td>\n",
       "      <td>Sun</td>\n",
       "      <td>Dinner</td>\n",
       "      <td>3</td>\n",
       "    </tr>\n",
       "    <tr>\n",
       "      <th>3</th>\n",
       "      <td>23.68</td>\n",
       "      <td>3.31</td>\n",
       "      <td>Male</td>\n",
       "      <td>No</td>\n",
       "      <td>Sun</td>\n",
       "      <td>Dinner</td>\n",
       "      <td>2</td>\n",
       "    </tr>\n",
       "    <tr>\n",
       "      <th>4</th>\n",
       "      <td>24.59</td>\n",
       "      <td>3.61</td>\n",
       "      <td>Female</td>\n",
       "      <td>No</td>\n",
       "      <td>Sun</td>\n",
       "      <td>Dinner</td>\n",
       "      <td>4</td>\n",
       "    </tr>\n",
       "    <tr>\n",
       "      <th>...</th>\n",
       "      <td>...</td>\n",
       "      <td>...</td>\n",
       "      <td>...</td>\n",
       "      <td>...</td>\n",
       "      <td>...</td>\n",
       "      <td>...</td>\n",
       "      <td>...</td>\n",
       "    </tr>\n",
       "    <tr>\n",
       "      <th>239</th>\n",
       "      <td>29.03</td>\n",
       "      <td>5.92</td>\n",
       "      <td>Male</td>\n",
       "      <td>No</td>\n",
       "      <td>Sat</td>\n",
       "      <td>Dinner</td>\n",
       "      <td>3</td>\n",
       "    </tr>\n",
       "    <tr>\n",
       "      <th>240</th>\n",
       "      <td>27.18</td>\n",
       "      <td>2.00</td>\n",
       "      <td>Female</td>\n",
       "      <td>Yes</td>\n",
       "      <td>Sat</td>\n",
       "      <td>Dinner</td>\n",
       "      <td>2</td>\n",
       "    </tr>\n",
       "    <tr>\n",
       "      <th>241</th>\n",
       "      <td>22.67</td>\n",
       "      <td>2.00</td>\n",
       "      <td>Male</td>\n",
       "      <td>Yes</td>\n",
       "      <td>Sat</td>\n",
       "      <td>Dinner</td>\n",
       "      <td>2</td>\n",
       "    </tr>\n",
       "    <tr>\n",
       "      <th>242</th>\n",
       "      <td>17.82</td>\n",
       "      <td>1.75</td>\n",
       "      <td>Male</td>\n",
       "      <td>No</td>\n",
       "      <td>Sat</td>\n",
       "      <td>Dinner</td>\n",
       "      <td>2</td>\n",
       "    </tr>\n",
       "    <tr>\n",
       "      <th>243</th>\n",
       "      <td>18.78</td>\n",
       "      <td>3.00</td>\n",
       "      <td>Female</td>\n",
       "      <td>No</td>\n",
       "      <td>Thur</td>\n",
       "      <td>Dinner</td>\n",
       "      <td>2</td>\n",
       "    </tr>\n",
       "  </tbody>\n",
       "</table>\n",
       "<p>244 rows × 7 columns</p>\n",
       "</div>"
      ],
      "text/plain": [
       "     total_bill   tip     sex smoker   day    time  size\n",
       "0         16.99  1.01  Female     No   Sun  Dinner     2\n",
       "1         10.34  1.66    Male     No   Sun  Dinner     3\n",
       "2         21.01  3.50    Male     No   Sun  Dinner     3\n",
       "3         23.68  3.31    Male     No   Sun  Dinner     2\n",
       "4         24.59  3.61  Female     No   Sun  Dinner     4\n",
       "..          ...   ...     ...    ...   ...     ...   ...\n",
       "239       29.03  5.92    Male     No   Sat  Dinner     3\n",
       "240       27.18  2.00  Female    Yes   Sat  Dinner     2\n",
       "241       22.67  2.00    Male    Yes   Sat  Dinner     2\n",
       "242       17.82  1.75    Male     No   Sat  Dinner     2\n",
       "243       18.78  3.00  Female     No  Thur  Dinner     2\n",
       "\n",
       "[244 rows x 7 columns]"
      ]
     },
     "execution_count": 15,
     "metadata": {},
     "output_type": "execute_result"
    }
   ],
   "source": [
    "df"
   ]
  },
  {
   "cell_type": "code",
   "execution_count": 16,
   "id": "9837d93c-67bd-49c2-b9d9-ef19ede991c4",
   "metadata": {},
   "outputs": [
    {
     "data": {
      "text/html": [
       "<div>\n",
       "<style scoped>\n",
       "    .dataframe tbody tr th:only-of-type {\n",
       "        vertical-align: middle;\n",
       "    }\n",
       "\n",
       "    .dataframe tbody tr th {\n",
       "        vertical-align: top;\n",
       "    }\n",
       "\n",
       "    .dataframe thead th {\n",
       "        text-align: right;\n",
       "    }\n",
       "</style>\n",
       "<table border=\"1\" class=\"dataframe\">\n",
       "  <thead>\n",
       "    <tr style=\"text-align: right;\">\n",
       "      <th></th>\n",
       "      <th>total_bill</th>\n",
       "      <th>tip</th>\n",
       "      <th>size</th>\n",
       "    </tr>\n",
       "  </thead>\n",
       "  <tbody>\n",
       "    <tr>\n",
       "      <th>count</th>\n",
       "      <td>244.000000</td>\n",
       "      <td>244.000000</td>\n",
       "      <td>244.000000</td>\n",
       "    </tr>\n",
       "    <tr>\n",
       "      <th>mean</th>\n",
       "      <td>19.785943</td>\n",
       "      <td>2.998279</td>\n",
       "      <td>2.569672</td>\n",
       "    </tr>\n",
       "    <tr>\n",
       "      <th>std</th>\n",
       "      <td>8.902412</td>\n",
       "      <td>1.383638</td>\n",
       "      <td>0.951100</td>\n",
       "    </tr>\n",
       "    <tr>\n",
       "      <th>min</th>\n",
       "      <td>3.070000</td>\n",
       "      <td>1.000000</td>\n",
       "      <td>1.000000</td>\n",
       "    </tr>\n",
       "    <tr>\n",
       "      <th>25%</th>\n",
       "      <td>13.347500</td>\n",
       "      <td>2.000000</td>\n",
       "      <td>2.000000</td>\n",
       "    </tr>\n",
       "    <tr>\n",
       "      <th>50%</th>\n",
       "      <td>17.795000</td>\n",
       "      <td>2.900000</td>\n",
       "      <td>2.000000</td>\n",
       "    </tr>\n",
       "    <tr>\n",
       "      <th>75%</th>\n",
       "      <td>24.127500</td>\n",
       "      <td>3.562500</td>\n",
       "      <td>3.000000</td>\n",
       "    </tr>\n",
       "    <tr>\n",
       "      <th>max</th>\n",
       "      <td>50.810000</td>\n",
       "      <td>10.000000</td>\n",
       "      <td>6.000000</td>\n",
       "    </tr>\n",
       "  </tbody>\n",
       "</table>\n",
       "</div>"
      ],
      "text/plain": [
       "       total_bill         tip        size\n",
       "count  244.000000  244.000000  244.000000\n",
       "mean    19.785943    2.998279    2.569672\n",
       "std      8.902412    1.383638    0.951100\n",
       "min      3.070000    1.000000    1.000000\n",
       "25%     13.347500    2.000000    2.000000\n",
       "50%     17.795000    2.900000    2.000000\n",
       "75%     24.127500    3.562500    3.000000\n",
       "max     50.810000   10.000000    6.000000"
      ]
     },
     "execution_count": 16,
     "metadata": {},
     "output_type": "execute_result"
    }
   ],
   "source": [
    "df.describe()"
   ]
  },
  {
   "cell_type": "code",
   "execution_count": 17,
   "id": "442b4724-d018-43cb-bc31-a3be4304ce29",
   "metadata": {},
   "outputs": [
    {
     "data": {
      "text/plain": [
       "[1, 2, 3, 4, 500]"
      ]
     },
     "execution_count": 17,
     "metadata": {},
     "output_type": "execute_result"
    }
   ],
   "source": [
    "data"
   ]
  },
  {
   "cell_type": "code",
   "execution_count": 18,
   "id": "8090295f-1081-4528-bd49-27c1ad3aa951",
   "metadata": {},
   "outputs": [
    {
     "data": {
      "text/plain": [
       "array([2.])"
      ]
     },
     "execution_count": 18,
     "metadata": {},
     "output_type": "execute_result"
    }
   ],
   "source": [
    "np.percentile(data, [25])"
   ]
  },
  {
   "cell_type": "code",
   "execution_count": 19,
   "id": "5abde780-7ce5-46de-b3b8-a8302c5fe9b3",
   "metadata": {},
   "outputs": [
    {
     "data": {
      "text/plain": [
       "array([  2.,   3.,   4., 500.])"
      ]
     },
     "execution_count": 19,
     "metadata": {},
     "output_type": "execute_result"
    }
   ],
   "source": [
    "np.percentile(data, [25, 50, 75, 100])"
   ]
  },
  {
   "cell_type": "code",
   "execution_count": 20,
   "id": "918d4060-090b-41e7-8d30-0bd25815a8f9",
   "metadata": {},
   "outputs": [],
   "source": [
    "data.append(-800)\n",
    "data.append(600)"
   ]
  },
  {
   "cell_type": "code",
   "execution_count": 21,
   "id": "68e4b6e0-ebc7-4081-88fc-7d21205977ea",
   "metadata": {},
   "outputs": [
    {
     "data": {
      "text/plain": [
       "[1, 2, 3, 4, 500, -800, 600]"
      ]
     },
     "execution_count": 21,
     "metadata": {},
     "output_type": "execute_result"
    }
   ],
   "source": [
    "data"
   ]
  },
  {
   "cell_type": "code",
   "execution_count": 22,
   "id": "0813068a-99c0-4624-934c-8089ba586c75",
   "metadata": {},
   "outputs": [
    {
     "data": {
      "text/plain": [
       "<AxesSubplot: >"
      ]
     },
     "execution_count": 22,
     "metadata": {},
     "output_type": "execute_result"
    },
    {
     "data": {
      "image/png": "[encoded data removed]",
      "text/plain": [
       "<Figure size 640x480 with 1 Axes>"
      ]
     },
     "metadata": {},
     "output_type": "display_data"
    }
   ],
   "source": [
    "sns.boxplot(data)"
   ]
  },
  {
   "cell_type": "code",
   "execution_count": 23,
   "id": "e1e96ab4-29f4-4a2f-8688-e2d183fd5482",
   "metadata": {},
   "outputs": [
    {
     "data": {
      "text/plain": [
       "176614.48979591837"
      ]
     },
     "execution_count": 23,
     "metadata": {},
     "output_type": "execute_result"
    }
   ],
   "source": [
    "np.var(data)"
   ]
  },
  {
   "cell_type": "code",
   "execution_count": 24,
   "id": "5b238b3f-8df4-49c2-9a50-d9162536562e",
   "metadata": {},
   "outputs": [
    {
     "data": {
      "text/plain": [
       "420.25526742197815"
      ]
     },
     "execution_count": 24,
     "metadata": {},
     "output_type": "execute_result"
    }
   ],
   "source": [
    "np.std(data)"
   ]
  },
  {
   "cell_type": "code",
   "execution_count": 25,
   "id": "5f4db384-7aa9-4735-aebf-4dcf22b0edbc",
   "metadata": {},
   "outputs": [
    {
     "data": {
      "text/plain": [
       "44.285714285714285"
      ]
     },
     "execution_count": 25,
     "metadata": {},
     "output_type": "execute_result"
    }
   ],
   "source": [
    "np.mean(data)"
   ]
  },
  {
   "cell_type": "code",
   "execution_count": 26,
   "id": "ff1bfaa1-af13-4de3-a636-2d93a20c20fb",
   "metadata": {},
   "outputs": [
    {
     "data": {
      "text/plain": [
       "206050.2380952381"
      ]
     },
     "execution_count": 26,
     "metadata": {},
     "output_type": "execute_result"
    }
   ],
   "source": [
    "statistics.variance(data) #sample variance"
   ]
  },
  {
   "cell_type": "code",
   "execution_count": 27,
   "id": "2763ed64-5e95-49b0-8261-5e886ea08c21",
   "metadata": {},
   "outputs": [
    {
     "data": {
      "text/plain": [
       "176614.48979591837"
      ]
     },
     "execution_count": 27,
     "metadata": {},
     "output_type": "execute_result"
    }
   ],
   "source": [
    "statistics.pvariance(data) #population variance"
   ]
  },
  {
   "cell_type": "code",
   "execution_count": 28,
   "id": "492b8273-7e0b-4b1f-b77b-b6e0be51d97d",
   "metadata": {},
   "outputs": [
    {
     "data": {
      "text/plain": [
       "420.25526742197815"
      ]
     },
     "execution_count": 28,
     "metadata": {},
     "output_type": "execute_result"
    }
   ],
   "source": [
    "#standard dev using math library\n",
    "import math\n",
    "math.sqrt(statistics.pvariance(data))"
   ]
  },
  {
   "cell_type": "code",
   "execution_count": 29,
   "id": "0c91dd15-7f36-4f83-ba3a-12a72e536634",
   "metadata": {},
   "outputs": [
    {
     "data": {
      "text/html": [
       "<div>\n",
       "<style scoped>\n",
       "    .dataframe tbody tr th:only-of-type {\n",
       "        vertical-align: middle;\n",
       "    }\n",
       "\n",
       "    .dataframe tbody tr th {\n",
       "        vertical-align: top;\n",
       "    }\n",
       "\n",
       "    .dataframe thead th {\n",
       "        text-align: right;\n",
       "    }\n",
       "</style>\n",
       "<table border=\"1\" class=\"dataframe\">\n",
       "  <thead>\n",
       "    <tr style=\"text-align: right;\">\n",
       "      <th></th>\n",
       "      <th>total_bill</th>\n",
       "      <th>tip</th>\n",
       "      <th>sex</th>\n",
       "      <th>smoker</th>\n",
       "      <th>day</th>\n",
       "      <th>time</th>\n",
       "      <th>size</th>\n",
       "    </tr>\n",
       "  </thead>\n",
       "  <tbody>\n",
       "    <tr>\n",
       "      <th>0</th>\n",
       "      <td>16.99</td>\n",
       "      <td>1.01</td>\n",
       "      <td>Female</td>\n",
       "      <td>No</td>\n",
       "      <td>Sun</td>\n",
       "      <td>Dinner</td>\n",
       "      <td>2</td>\n",
       "    </tr>\n",
       "    <tr>\n",
       "      <th>1</th>\n",
       "      <td>10.34</td>\n",
       "      <td>1.66</td>\n",
       "      <td>Male</td>\n",
       "      <td>No</td>\n",
       "      <td>Sun</td>\n",
       "      <td>Dinner</td>\n",
       "      <td>3</td>\n",
       "    </tr>\n",
       "    <tr>\n",
       "      <th>2</th>\n",
       "      <td>21.01</td>\n",
       "      <td>3.50</td>\n",
       "      <td>Male</td>\n",
       "      <td>No</td>\n",
       "      <td>Sun</td>\n",
       "      <td>Dinner</td>\n",
       "      <td>3</td>\n",
       "    </tr>\n",
       "    <tr>\n",
       "      <th>3</th>\n",
       "      <td>23.68</td>\n",
       "      <td>3.31</td>\n",
       "      <td>Male</td>\n",
       "      <td>No</td>\n",
       "      <td>Sun</td>\n",
       "      <td>Dinner</td>\n",
       "      <td>2</td>\n",
       "    </tr>\n",
       "    <tr>\n",
       "      <th>4</th>\n",
       "      <td>24.59</td>\n",
       "      <td>3.61</td>\n",
       "      <td>Female</td>\n",
       "      <td>No</td>\n",
       "      <td>Sun</td>\n",
       "      <td>Dinner</td>\n",
       "      <td>4</td>\n",
       "    </tr>\n",
       "    <tr>\n",
       "      <th>...</th>\n",
       "      <td>...</td>\n",
       "      <td>...</td>\n",
       "      <td>...</td>\n",
       "      <td>...</td>\n",
       "      <td>...</td>\n",
       "      <td>...</td>\n",
       "      <td>...</td>\n",
       "    </tr>\n",
       "    <tr>\n",
       "      <th>239</th>\n",
       "      <td>29.03</td>\n",
       "      <td>5.92</td>\n",
       "      <td>Male</td>\n",
       "      <td>No</td>\n",
       "      <td>Sat</td>\n",
       "      <td>Dinner</td>\n",
       "      <td>3</td>\n",
       "    </tr>\n",
       "    <tr>\n",
       "      <th>240</th>\n",
       "      <td>27.18</td>\n",
       "      <td>2.00</td>\n",
       "      <td>Female</td>\n",
       "      <td>Yes</td>\n",
       "      <td>Sat</td>\n",
       "      <td>Dinner</td>\n",
       "      <td>2</td>\n",
       "    </tr>\n",
       "    <tr>\n",
       "      <th>241</th>\n",
       "      <td>22.67</td>\n",
       "      <td>2.00</td>\n",
       "      <td>Male</td>\n",
       "      <td>Yes</td>\n",
       "      <td>Sat</td>\n",
       "      <td>Dinner</td>\n",
       "      <td>2</td>\n",
       "    </tr>\n",
       "    <tr>\n",
       "      <th>242</th>\n",
       "      <td>17.82</td>\n",
       "      <td>1.75</td>\n",
       "      <td>Male</td>\n",
       "      <td>No</td>\n",
       "      <td>Sat</td>\n",
       "      <td>Dinner</td>\n",
       "      <td>2</td>\n",
       "    </tr>\n",
       "    <tr>\n",
       "      <th>243</th>\n",
       "      <td>18.78</td>\n",
       "      <td>3.00</td>\n",
       "      <td>Female</td>\n",
       "      <td>No</td>\n",
       "      <td>Thur</td>\n",
       "      <td>Dinner</td>\n",
       "      <td>2</td>\n",
       "    </tr>\n",
       "  </tbody>\n",
       "</table>\n",
       "<p>244 rows × 7 columns</p>\n",
       "</div>"
      ],
      "text/plain": [
       "     total_bill   tip     sex smoker   day    time  size\n",
       "0         16.99  1.01  Female     No   Sun  Dinner     2\n",
       "1         10.34  1.66    Male     No   Sun  Dinner     3\n",
       "2         21.01  3.50    Male     No   Sun  Dinner     3\n",
       "3         23.68  3.31    Male     No   Sun  Dinner     2\n",
       "4         24.59  3.61  Female     No   Sun  Dinner     4\n",
       "..          ...   ...     ...    ...   ...     ...   ...\n",
       "239       29.03  5.92    Male     No   Sat  Dinner     3\n",
       "240       27.18  2.00  Female    Yes   Sat  Dinner     2\n",
       "241       22.67  2.00    Male    Yes   Sat  Dinner     2\n",
       "242       17.82  1.75    Male     No   Sat  Dinner     2\n",
       "243       18.78  3.00  Female     No  Thur  Dinner     2\n",
       "\n",
       "[244 rows x 7 columns]"
      ]
     },
     "execution_count": 29,
     "metadata": {},
     "output_type": "execute_result"
    }
   ],
   "source": [
    "df"
   ]
  },
  {
   "cell_type": "code",
   "execution_count": 30,
   "id": "fb3afcac-b0e3-4ab3-b771-8e0f43357095",
   "metadata": {},
   "outputs": [
    {
     "name": "stderr",
     "output_type": "stream",
     "text": [
      "/tmp/ipykernel_249/1134722465.py:1: FutureWarning: The default value of numeric_only in DataFrame.corr is deprecated. In a future version, it will default to False. Select only valid columns or specify the value of numeric_only to silence this warning.\n",
      "  df.corr()\n"
     ]
    },
    {
     "data": {
      "text/html": [
       "<div>\n",
       "<style scoped>\n",
       "    .dataframe tbody tr th:only-of-type {\n",
       "        vertical-align: middle;\n",
       "    }\n",
       "\n",
       "    .dataframe tbody tr th {\n",
       "        vertical-align: top;\n",
       "    }\n",
       "\n",
       "    .dataframe thead th {\n",
       "        text-align: right;\n",
       "    }\n",
       "</style>\n",
       "<table border=\"1\" class=\"dataframe\">\n",
       "  <thead>\n",
       "    <tr style=\"text-align: right;\">\n",
       "      <th></th>\n",
       "      <th>total_bill</th>\n",
       "      <th>tip</th>\n",
       "      <th>size</th>\n",
       "    </tr>\n",
       "  </thead>\n",
       "  <tbody>\n",
       "    <tr>\n",
       "      <th>total_bill</th>\n",
       "      <td>1.000000</td>\n",
       "      <td>0.675734</td>\n",
       "      <td>0.598315</td>\n",
       "    </tr>\n",
       "    <tr>\n",
       "      <th>tip</th>\n",
       "      <td>0.675734</td>\n",
       "      <td>1.000000</td>\n",
       "      <td>0.489299</td>\n",
       "    </tr>\n",
       "    <tr>\n",
       "      <th>size</th>\n",
       "      <td>0.598315</td>\n",
       "      <td>0.489299</td>\n",
       "      <td>1.000000</td>\n",
       "    </tr>\n",
       "  </tbody>\n",
       "</table>\n",
       "</div>"
      ],
      "text/plain": [
       "            total_bill       tip      size\n",
       "total_bill    1.000000  0.675734  0.598315\n",
       "tip           0.675734  1.000000  0.489299\n",
       "size          0.598315  0.489299  1.000000"
      ]
     },
     "execution_count": 30,
     "metadata": {},
     "output_type": "execute_result"
    }
   ],
   "source": [
    "df.corr()"
   ]
  },
  {
   "cell_type": "code",
   "execution_count": 31,
   "id": "d7be854c-0ce9-4da5-a24c-335e3be5182e",
   "metadata": {},
   "outputs": [
    {
     "name": "stderr",
     "output_type": "stream",
     "text": [
      "/tmp/ipykernel_249/3870688284.py:1: FutureWarning: The default value of numeric_only in DataFrame.corr is deprecated. In a future version, it will default to False. Select only valid columns or specify the value of numeric_only to silence this warning.\n",
      "  corr = df.corr()\n"
     ]
    },
    {
     "data": {
      "text/plain": [
       "<AxesSubplot: >"
      ]
     },
     "execution_count": 31,
     "metadata": {},
     "output_type": "execute_result"
    },
    {
     "data": {
      "image/png": "[encoded data removed]",
      "text/plain": [
       "<Figure size 640x480 with 2 Axes>"
      ]
     },
     "metadata": {},
     "output_type": "display_data"
    }
   ],
   "source": [
    "corr = df.corr()\n",
    "sns.heatmap(corr, annot=True)"
   ]
  },
  {
   "cell_type": "code",
   "execution_count": 32,
   "id": "cf0190aa-ffc8-4805-a070-96065b09f996",
   "metadata": {},
   "outputs": [
    {
     "name": "stderr",
     "output_type": "stream",
     "text": [
      "/tmp/ipykernel_249/1545644723.py:1: FutureWarning: The default value of numeric_only in DataFrame.cov is deprecated. In a future version, it will default to False. Select only valid columns or specify the value of numeric_only to silence this warning.\n",
      "  df.cov()\n"
     ]
    },
    {
     "data": {
      "text/html": [
       "<div>\n",
       "<style scoped>\n",
       "    .dataframe tbody tr th:only-of-type {\n",
       "        vertical-align: middle;\n",
       "    }\n",
       "\n",
       "    .dataframe tbody tr th {\n",
       "        vertical-align: top;\n",
       "    }\n",
       "\n",
       "    .dataframe thead th {\n",
       "        text-align: right;\n",
       "    }\n",
       "</style>\n",
       "<table border=\"1\" class=\"dataframe\">\n",
       "  <thead>\n",
       "    <tr style=\"text-align: right;\">\n",
       "      <th></th>\n",
       "      <th>total_bill</th>\n",
       "      <th>tip</th>\n",
       "      <th>size</th>\n",
       "    </tr>\n",
       "  </thead>\n",
       "  <tbody>\n",
       "    <tr>\n",
       "      <th>total_bill</th>\n",
       "      <td>79.252939</td>\n",
       "      <td>8.323502</td>\n",
       "      <td>5.065983</td>\n",
       "    </tr>\n",
       "    <tr>\n",
       "      <th>tip</th>\n",
       "      <td>8.323502</td>\n",
       "      <td>1.914455</td>\n",
       "      <td>0.643906</td>\n",
       "    </tr>\n",
       "    <tr>\n",
       "      <th>size</th>\n",
       "      <td>5.065983</td>\n",
       "      <td>0.643906</td>\n",
       "      <td>0.904591</td>\n",
       "    </tr>\n",
       "  </tbody>\n",
       "</table>\n",
       "</div>"
      ],
      "text/plain": [
       "            total_bill       tip      size\n",
       "total_bill   79.252939  8.323502  5.065983\n",
       "tip           8.323502  1.914455  0.643906\n",
       "size          5.065983  0.643906  0.904591"
      ]
     },
     "execution_count": 32,
     "metadata": {},
     "output_type": "execute_result"
    }
   ],
   "source": [
    "df.cov()"
   ]
  },
  {
   "cell_type": "code",
   "execution_count": 33,
   "id": "884a9d0b-d554-4cf4-9f94-c04d159a5f47",
   "metadata": {},
   "outputs": [
    {
     "data": {
      "text/plain": [
       "<seaborn.axisgrid.PairGrid at 0x7f100615ee90>"
      ]
     },
     "execution_count": 33,
     "metadata": {},
     "output_type": "execute_result"
    },
    {
     "data": {
      "image/png": "[encoded data removed]",
      "text/plain": [
       "<Figure size 750x750 with 12 Axes>"
      ]
     },
     "metadata": {},
     "output_type": "display_data"
    }
   ],
   "source": [
    "sns.pairplot(df)"
   ]
  },
  {
   "cell_type": "code",
   "execution_count": 34,
   "id": "4781abfc-ea1a-48a5-857a-036f18b3397d",
   "metadata": {},
   "outputs": [
    {
     "data": {
      "text/plain": [
       "[1, 2, 3, 4, 500, -800, 600]"
      ]
     },
     "execution_count": 34,
     "metadata": {},
     "output_type": "execute_result"
    }
   ],
   "source": [
    "data"
   ]
  },
  {
   "cell_type": "code",
   "execution_count": 35,
   "id": "d81313f7-6c3d-42e7-87d8-14e4a8f1aaeb",
   "metadata": {},
   "outputs": [
    {
     "data": {
      "text/plain": [
       "<AxesSubplot: ylabel='Count'>"
      ]
     },
     "execution_count": 35,
     "metadata": {},
     "output_type": "execute_result"
    },
    {
     "data": {
      "image/png": "[encoded data removed]",
      "text/plain": [
       "<Figure size 640x480 with 1 Axes>"
      ]
     },
     "metadata": {},
     "output_type": "display_data"
    }
   ],
   "source": [
    "sns.histplot(data)"
   ]
  },
  {
   "cell_type": "code",
   "execution_count": 36,
   "id": "838e21fd-3df6-4eb5-87dc-d1adc945b075",
   "metadata": {},
   "outputs": [
    {
     "data": {
      "text/plain": [
       "<AxesSubplot: ylabel='Count'>"
      ]
     },
     "execution_count": 36,
     "metadata": {},
     "output_type": "execute_result"
    },
    {
     "data": {
      "image/png": "[encoded data removed]",
      "text/plain": [
       "<Figure size 640x480 with 1 Axes>"
      ]
     },
     "metadata": {},
     "output_type": "display_data"
    }
   ],
   "source": [
    "sns.histplot(data, kde = True)"
   ]
  },
  {
   "cell_type": "code",
   "execution_count": 37,
   "id": "cf12a4b6-af35-42e4-aad6-a7fb15610dfd",
   "metadata": {},
   "outputs": [
    {
     "data": {
      "text/plain": [
       "<AxesSubplot: xlabel='total_bill', ylabel='Count'>"
      ]
     },
     "execution_count": 37,
     "metadata": {},
     "output_type": "execute_result"
    },
    {
     "data": {
      "image/png": "[encoded data removed]",
      "text/plain": [
       "<Figure size 640x480 with 1 Axes>"
      ]
     },
     "metadata": {},
     "output_type": "display_data"
    }
   ],
   "source": [
    "sns.histplot(df['total_bill'])"
   ]
  },
  {
   "cell_type": "code",
   "execution_count": 38,
   "id": "2090fadb-5d8e-415e-8ebd-1ba1770ca683",
   "metadata": {},
   "outputs": [
    {
     "data": {
      "text/plain": [
       "<AxesSubplot: xlabel='total_bill', ylabel='Count'>"
      ]
     },
     "execution_count": 38,
     "metadata": {},
     "output_type": "execute_result"
    },
    {
     "data": {
      "image/png": "[encoded data removed]",
      "text/plain": [
       "<Figure size 640x480 with 1 Axes>"
      ]
     },
     "metadata": {},
     "output_type": "display_data"
    }
   ],
   "source": [
    "sns.histplot(df['total_bill'], kde = True)"
   ]
  },
  {
   "cell_type": "code",
   "execution_count": 39,
   "id": "ead81ce1-6b8b-46ff-9644-fe6e90b61302",
   "metadata": {},
   "outputs": [
    {
     "name": "stderr",
     "output_type": "stream",
     "text": [
      "/tmp/ipykernel_249/2728618944.py:1: UserWarning: \n",
      "\n",
      "`distplot` is a deprecated function and will be removed in seaborn v0.14.0.\n",
      "\n",
      "Please adapt your code to use either `displot` (a figure-level function with\n",
      "similar flexibility) or `histplot` (an axes-level function for histograms).\n",
      "\n",
      "For a guide to updating your code to use the new functions, please see\n",
      "https://gist.github.com/mwaskom/de44147ed2974457ad6372750bbe5751\n",
      "\n",
      "  sns.distplot(df['total_bill'], kde = True)\n"
     ]
    },
    {
     "data": {
      "text/plain": [
       "<AxesSubplot: xlabel='total_bill', ylabel='Density'>"
      ]
     },
     "execution_count": 39,
     "metadata": {},
     "output_type": "execute_result"
    },
    {
     "data": {
      "image/png": "[encoded data removed]",
      "text/plain": [
       "<Figure size 640x480 with 1 Axes>"
      ]
     },
     "metadata": {},
     "output_type": "display_data"
    }
   ],
   "source": [
    "sns.distplot(df['total_bill'], kde = True)"
   ]
  },
  {
   "cell_type": "code",
   "execution_count": 40,
   "id": "37d5b492-07c4-4e6c-a9a4-0e21c64adb6e",
   "metadata": {},
   "outputs": [
    {
     "data": {
      "text/plain": [
       "array([ 0.60303757,  0.61841557,  0.44895695,  0.47413216,  0.65292439,\n",
       "        0.5699083 ,  0.41389767,  0.81085263,  0.39285919,  0.24547207,\n",
       "        0.67470371,  0.35422333,  0.76037647,  0.47336647,  0.27867049,\n",
       "        0.53853823,  0.46192628,  0.26387102,  0.66023671,  0.66645585,\n",
       "        0.33921092,  0.18615076,  0.6064089 ,  0.62193404,  0.33872314,\n",
       "        0.43675778,  0.52465511,  0.17255145,  0.7360595 ,  0.67718383,\n",
       "        0.90524314,  0.19055169,  0.5331776 ,  0.33670206,  0.72997504,\n",
       "        0.45697606,  0.22619349,  0.61067157,  0.59754728,  0.37698   ,\n",
       "        0.54019403,  0.24733934,  0.61419771,  0.26290894,  0.64389105,\n",
       "        0.3655546 ,  0.59167045,  0.23101634,  0.22025034,  0.21198005,\n",
       "        0.31927137,  0.45874787,  0.20400624,  0.42407196,  0.60513689,\n",
       "        0.57621909,  0.10787723,  0.48059283,  0.70286236,  0.26775179,\n",
       "        0.87672421,  0.5562297 ,  0.56903541,  0.50377386,  0.48785315,\n",
       "        0.19589757,  0.10660946,  1.011779  ,  0.3206976 ,  0.34613168,\n",
       "        0.54901239,  0.77045217,  0.50458729,  0.37559691,  0.50452786,\n",
       "        0.59795294,  0.18452691,  0.41836936,  0.47744568,  0.71090531,\n",
       "        0.29932695,  0.68979201,  0.81620392,  0.48702693,  0.0291308 ,\n",
       "        0.3994458 ,  0.59484017,  0.61627366,  0.64933016,  0.3435893 ,\n",
       "        0.27131798,  0.45657446,  0.59701804,  0.33143752,  0.41280709,\n",
       "        0.50523461,  0.66134623,  0.41048345,  0.67812036,  0.44867703,\n",
       "        0.40327332,  0.61987012,  0.38316306,  0.21996105,  0.57750599,\n",
       "        0.60393587,  0.1791463 ,  0.4865498 ,  0.60741691,  0.46426074,\n",
       "        0.74218012,  0.52794151,  0.77380917,  0.58727706,  0.83266506,\n",
       "        0.15390679,  0.25610666,  0.74417196,  0.21546168,  0.7763902 ,\n",
       "        0.59068992,  0.3277849 ,  0.25906349,  0.48091858,  0.55898631,\n",
       "        0.41554655,  0.44152063,  0.38012599,  0.49802016,  0.48693684,\n",
       "        0.37915421,  0.6624952 ,  0.31378071,  0.58520727,  0.34289633,\n",
       "        0.72408548,  0.48848426,  0.54352196,  0.46568154,  0.53369412,\n",
       "        0.56537458,  0.63241023,  0.52595181,  0.4699758 ,  0.39160888,\n",
       "        0.65714294,  0.24100055,  0.67717601,  0.6614333 ,  0.69111175,\n",
       "        0.58575725,  0.5759331 ,  0.76965474,  0.36755137,  0.35116933,\n",
       "        0.97845753,  0.41557015,  0.43099757,  0.35915544,  0.25356249,\n",
       "        0.58092796,  0.20343282,  0.49084142,  0.13383355,  0.42531006,\n",
       "        0.35959188,  0.39669746,  0.33110421,  0.28554367,  0.44022851,\n",
       "        0.49641649,  0.22575709,  0.72753171,  0.53164061,  0.34136092,\n",
       "        0.4781646 ,  0.48046666,  0.6203841 ,  0.2507312 ,  0.65606554,\n",
       "        0.34151558,  0.28112575,  0.64807737,  0.61256567,  0.45143336,\n",
       "        0.72411105,  0.61997286,  0.24129453,  0.62233838,  0.72709142,\n",
       "        0.12258329,  0.08142259,  0.78673228,  0.34194865,  0.72303361,\n",
       "        0.54092588,  0.71128663,  0.44548326,  0.56808685,  0.88870872,\n",
       "        0.3981624 ,  0.60387582,  0.94033733,  0.49520611,  0.81545846,\n",
       "        0.45804316,  0.92913683,  0.88774581,  0.4687436 ,  0.1529388 ,\n",
       "        0.49072342,  0.45150525,  0.53819003,  0.81729359,  0.79288233,\n",
       "        0.38590531,  0.70339223,  0.6818691 ,  0.63044909,  0.50532856,\n",
       "        0.30208752,  0.55226389,  0.79009791,  0.35001516,  0.06837656,\n",
       "        0.4293812 ,  0.85221926,  0.23019078,  0.20695332,  0.58288262,\n",
       "        0.13551683,  0.64914437,  0.05161205,  0.35526409,  0.63971277,\n",
       "        0.52029701,  0.5061731 ,  0.29821862,  0.53038072,  0.44331518,\n",
       "        0.36015882,  0.33852834,  0.48388968,  0.43272394, -0.06954767,\n",
       "        0.5516177 ,  0.75478723,  0.43102393,  0.40597734,  0.46042606,\n",
       "        0.57546643,  0.67742153,  0.01155235,  0.67992544,  0.55840855,\n",
       "        0.38119785,  0.61682262,  0.453977  ,  0.68433041,  0.40725522,\n",
       "        0.49690279,  0.41389871,  0.9155726 ,  0.39492964,  0.57672646,\n",
       "        0.57139044,  0.69439556,  0.51344195,  0.72866269,  0.38549789,\n",
       "        0.51630909,  0.35768071,  0.37998113,  0.53988841,  0.51128476,\n",
       "        0.79502043,  0.620982  ,  0.42181791,  0.41271305,  0.33786898,\n",
       "        0.40607085,  0.4188149 ,  0.48211754,  0.79087399,  0.48091113,\n",
       "        0.16376638,  0.85826737,  0.4769638 ,  0.38005974,  0.66674906,\n",
       "        0.64619467,  0.58735747,  0.64350086,  0.12211826,  0.52688314,\n",
       "        0.52001271,  0.50199045,  0.5183698 ,  0.70324551,  0.56574486,\n",
       "        0.53165951,  1.06030079,  0.42153613,  0.53148249,  0.1294847 ,\n",
       "        0.91373804,  0.84519689,  0.11955163,  0.66648829,  0.47177046,\n",
       "        0.62458147,  0.65617974,  0.56082506,  0.57814968,  0.42622039,\n",
       "        0.40741544,  0.45197645,  0.52767589,  0.6273036 ,  0.56385427,\n",
       "        0.39751696,  0.54715772,  0.59451219,  0.51878067,  0.60790536,\n",
       "        0.31577738,  0.61159373,  0.49312196,  0.56854805,  0.80118065,\n",
       "        0.62252317,  0.37521037,  0.40659237,  0.55435372,  0.32936766,\n",
       "        0.39106188,  0.54150071,  0.69781768,  0.45137677,  0.31670297,\n",
       "        0.47963269,  0.74826511,  0.55152573,  0.31908246,  0.19305347,\n",
       "        0.54418064,  0.37775521,  0.48860618,  0.76859601,  0.56475572,\n",
       "        0.86027675,  0.46625992,  0.5910316 ,  0.34343618,  0.18929129,\n",
       "        0.40073735,  0.46663929,  0.52144065,  0.22992093,  0.6837162 ,\n",
       "        0.06751223,  0.36236786,  0.38317348,  0.75773897,  0.38177335,\n",
       "        0.39992049,  0.64692349,  0.74629248,  0.64792236,  0.65384425,\n",
       "        0.62729997,  0.64666929,  0.42167106,  0.63515162,  0.46827445,\n",
       "        0.56005982,  0.5749998 ,  0.71560352,  0.03810756,  0.47676063,\n",
       "        0.34805187,  0.70479102,  0.54827113,  0.78389521,  0.25549845,\n",
       "        0.11650425,  0.17381542,  0.46599707,  0.65426114,  0.56337615,\n",
       "        0.62116822,  0.24132491,  0.36719792,  0.69473938,  0.50326811,\n",
       "        0.69321596,  0.60691489,  0.69430861,  0.67039517,  0.51699438,\n",
       "        0.29955908,  0.50031753,  0.21425385,  0.2787979 ,  0.83984309,\n",
       "        0.66596393,  0.30280114,  0.48823305,  0.53788018,  0.40550815,\n",
       "        0.9009327 ,  0.23703876,  0.79012488,  0.68536601,  0.73854217,\n",
       "        0.2392    ,  0.75765399,  0.65543412,  0.37035491,  0.26538854,\n",
       "        0.66497198,  0.75147594,  0.44210106,  0.3662008 ,  0.73080616,\n",
       "        0.37763676,  0.59645768,  0.35100246,  0.85013199,  0.30735553,\n",
       "        0.68531463,  0.75791398,  0.48063463,  0.24708641,  0.68553487,\n",
       "        0.66163893,  0.41342664,  0.6377565 ,  0.6813778 ,  0.17879272,\n",
       "        0.79524487,  0.20755172,  0.59446268,  0.14928875,  0.4806745 ,\n",
       "        0.59288499,  0.50175653,  0.62403616,  0.42738973,  0.73297225,\n",
       "        0.52627764,  0.59708343,  0.39684456,  0.23280545,  0.3888889 ,\n",
       "        0.5095752 ,  0.52187633,  0.65392772,  0.42888281,  0.68020945,\n",
       "        0.38148472,  0.63037558,  0.40951639,  0.48498617,  0.2475088 ,\n",
       "        0.50108597,  0.26973717,  0.66247639,  0.43833327,  0.51175145,\n",
       "        0.52213654,  0.49022733,  0.40241055,  0.33199629,  0.92423033,\n",
       "        0.46389802,  0.52496576,  0.71487168,  0.98688667,  0.52999066,\n",
       "        0.40370528,  0.61643538,  0.62992303,  0.32393259,  0.68516916,\n",
       "        0.57317849,  0.20107211,  0.57622798,  0.10741215,  0.43735044,\n",
       "        0.20258176,  0.55862569,  0.50802602,  0.44239413,  0.26296675,\n",
       "        0.49790797,  0.19530585,  0.31255771,  0.57950653,  0.42163503,\n",
       "        0.57882157,  0.21318319,  0.35501568,  0.76810338,  0.53162342,\n",
       "        0.37891587,  0.72143584,  0.43936358,  0.58447541,  0.06714363,\n",
       "        0.66144284,  0.95796361,  0.43805587,  0.68677418,  0.15546696,\n",
       "        0.73582945,  0.52685439,  0.6163385 ,  0.52471272,  0.71678496,\n",
       "        0.62941788,  0.35944889,  0.6350831 ,  0.64930996,  0.51531571,\n",
       "        0.15875368,  0.56543691,  0.41880476,  0.63334184,  0.32896578,\n",
       "        0.42595204,  0.28353384,  0.71231887,  0.41166393,  0.53086195,\n",
       "        0.31862114,  0.40996558,  0.64518287,  0.24523961,  0.48445442,\n",
       "        1.1050141 ,  0.83671033,  0.73161655,  0.4496527 ,  0.54133378,\n",
       "        0.67797939,  0.48185907,  0.77770874,  0.58576152,  0.67454007,\n",
       "        0.40854932,  0.39892106,  0.67450933,  0.48422596,  0.34716133,\n",
       "        0.16646421,  0.42953741,  0.75892729,  0.48886819,  0.74777887,\n",
       "        0.27716105,  0.72323123,  0.84921751,  0.46507699,  0.42113889,\n",
       "        0.38215517,  0.69023548,  0.4587652 ,  0.33204318,  0.40306211,\n",
       "       -0.24025747,  0.44882563,  0.70851578,  0.4675878 ,  0.60682729,\n",
       "        0.31319158,  0.27975451,  0.6523873 ,  0.2634426 ,  0.41197834,\n",
       "        0.53524076,  0.34677819,  0.3157079 ,  0.74105276,  0.56356259,\n",
       "        0.23610623,  0.42842393,  0.50485003,  0.62200751,  0.60026851,\n",
       "        0.24646403,  0.66751287,  0.39377081,  0.32414051,  0.88729323,\n",
       "        0.29379632,  0.28589856,  0.33149063,  0.90453124,  0.81090433,\n",
       "       -0.03029109,  0.39850202,  0.27752479,  0.35578071,  0.66864137,\n",
       "        0.48171409,  0.58501929,  0.87714343,  0.82277596,  0.781732  ,\n",
       "        0.28414173,  0.57502473,  0.88214259,  0.54017939,  0.76241324,\n",
       "        0.81354584,  0.86354431,  0.66320943,  0.29626968,  0.63264394,\n",
       "        0.51923809,  0.46322527,  0.56789728,  0.70784041,  0.68013482,\n",
       "        0.40802172,  0.28059833,  0.50815601,  0.34385494,  0.20504925,\n",
       "        0.66835973,  0.33967563,  0.08851904,  0.70153763,  0.58094408,\n",
       "        0.58658392,  0.82654051,  0.41352183,  0.10472362,  0.57427747,\n",
       "       -0.03155714,  0.59858006,  0.48572773,  0.31376062,  0.82076898,\n",
       "        0.42750649,  0.79190917,  0.80406194,  0.99071821,  0.35652983,\n",
       "        0.35723953,  0.20117838,  0.39870348,  0.65432326,  0.44327172,\n",
       "        0.54133035,  0.62938203,  0.71925042,  0.5358408 ,  0.48594433,\n",
       "        0.45108063,  0.49882921,  0.57837533,  0.36919794,  0.63716809,\n",
       "        0.45233282,  0.53015293,  0.54968307,  0.05545708,  0.62343772,\n",
       "        0.36852969,  0.66814818,  0.29018727,  0.39705526,  0.70611511,\n",
       "        0.74808528,  0.69463491,  0.12637814,  0.62608123,  0.76641344,\n",
       "        0.6764277 ,  0.74698992,  0.68866731,  0.64173991,  0.3980861 ,\n",
       "        0.67707575,  0.58745184,  0.599884  ,  0.49389237,  0.23411756,\n",
       "        0.50831504,  0.42952082,  0.42875374,  0.8392631 ,  0.22349578,\n",
       "        0.22588234,  0.40577686,  0.74431232,  0.4569677 ,  0.52259388,\n",
       "        0.61710267,  0.50317097,  0.15250586,  0.57178076,  0.59077114,\n",
       "        0.34726535,  0.64301507,  0.495493  ,  0.06309256,  0.41847709,\n",
       "        0.66666104,  0.49445853,  0.4290626 ,  0.56347989,  0.78879837,\n",
       "        0.59903618,  0.19608241,  0.34890907,  0.62668828,  0.30388779,\n",
       "        0.42262562,  0.81087191,  0.30269875,  0.49619835,  0.44990125,\n",
       "        0.60090191,  0.43337919,  0.38446212,  0.87315511,  0.17853442,\n",
       "        0.56305492,  0.250336  ,  0.053907  ,  0.3834354 ,  0.50431706,\n",
       "        0.62193268,  0.39413138,  0.60445097,  0.5917159 ,  0.972005  ,\n",
       "        0.32113819,  0.45057187,  0.4159193 ,  0.95877653,  0.45948051,\n",
       "        0.79115607,  0.40257237,  0.28734455,  0.38195711,  0.44326641,\n",
       "        0.56357797,  0.61332174,  0.20598636,  0.49271488,  0.68369215,\n",
       "        0.34399537,  0.63286199,  0.36286136,  0.38513981,  0.4993947 ,\n",
       "        0.46571149,  0.69827763,  0.42960387,  0.77313702,  0.52070366,\n",
       "        0.3581797 ,  0.6146628 ,  0.52582772,  0.75571203,  0.79479889,\n",
       "        0.78949295,  0.47680096,  0.60555198,  0.31635582,  0.76656971,\n",
       "        0.54282966,  0.75915515,  0.66962985,  0.21027563,  0.53759456,\n",
       "        0.46229609,  0.41620127,  0.27920347,  0.44207116,  0.96513821,\n",
       "        0.51053114,  0.48084364,  0.78616479,  0.79885066,  0.69558022,\n",
       "        0.40029767,  0.43989176,  0.54126474,  0.60026137,  0.33717773,\n",
       "        0.18868168,  0.61211799,  0.41116149,  0.85451074,  0.56991226,\n",
       "        0.17437368,  0.20124061,  0.34273658,  0.32718698,  0.16417371,\n",
       "        0.68390944,  0.10802956,  0.46212778,  0.63519216,  0.65863064,\n",
       "        0.48641132,  0.75418221,  0.63529619,  0.60822755,  0.32730148,\n",
       "        0.44708833,  0.66873726,  0.28847295,  0.39094604,  0.65972567,\n",
       "        0.68480056,  0.77279885,  0.73387168,  0.42626847,  0.51241576,\n",
       "        0.36691155,  0.45016609,  0.47245676,  0.30699313,  0.25822531,\n",
       "        0.46800764,  0.95344754,  0.35037846,  0.40691491,  0.45909442,\n",
       "        0.28737488,  0.76027266,  0.44127155,  0.63873071,  0.62916222,\n",
       "        0.83591691,  0.95686287,  0.42201352,  0.50449543,  0.35084166,\n",
       "        0.31592983,  0.21361542,  0.28389809,  0.31471796,  0.1978897 ,\n",
       "        0.59571447,  0.9369893 ,  0.53981779,  0.23204957,  0.18219402,\n",
       "        0.55818449,  0.61889828,  0.23239068,  0.52633575,  0.65115354,\n",
       "        0.86732418,  0.74922037,  0.64390485,  0.60208906,  0.51991176,\n",
       "        0.82009367,  0.17339526,  0.21456447,  0.32432296,  0.41157089,\n",
       "        0.43405248,  0.41223108,  0.72735182,  0.25137512,  0.4354003 ,\n",
       "        0.48765249,  0.46992905,  0.51242713,  0.55810549,  0.25717496,\n",
       "        0.71421786,  0.49772343,  0.58893625,  0.68819403,  0.47725208,\n",
       "        0.54152179,  0.35543374,  0.41653004,  0.24491012,  0.64046959,\n",
       "        0.52733502,  0.60821989,  0.20526318,  0.50692928,  0.56702644,\n",
       "        0.26767887,  0.90373726,  0.3941724 ,  0.00860672,  0.45291747,\n",
       "        0.49342478,  0.21256828,  0.83459865,  0.26566248,  0.77386952,\n",
       "        0.63941538,  0.70458504,  0.33094321,  0.61847711,  0.48998674,\n",
       "        0.94974602,  0.45638296,  0.53087539,  0.43987533,  0.9221059 ,\n",
       "        0.43125162,  0.39330088,  0.55156483,  0.17167759,  0.40733924,\n",
       "        0.83567446,  0.47635131,  0.52976145,  0.58763944,  0.1196487 ,\n",
       "        0.47395741,  0.57613664,  0.64835477,  0.42950105,  0.33415615,\n",
       "        0.64212496,  0.58905729,  0.28181917,  0.54573322,  0.54161651,\n",
       "        0.63094439,  0.29775623,  0.51695683,  0.18344969,  0.34060556,\n",
       "        0.19190594,  0.55653148,  0.65660192,  0.70105031,  0.56441845,\n",
       "        0.14942603,  0.44299466,  0.38438331,  0.14395179,  0.26163161,\n",
       "        0.26513341,  0.86866396,  0.24217235,  0.41054406,  0.27900989,\n",
       "        0.54144941,  0.59934808,  0.3433708 ,  0.45965976,  0.54069113,\n",
       "        0.47359117,  0.37917214,  0.58942531,  0.64740859,  0.69946076,\n",
       "        0.71823709,  0.41447339,  0.40215723,  0.64074413,  0.4260492 ,\n",
       "        0.67111646,  0.26990553,  0.4958531 ,  0.44939266,  0.60204182,\n",
       "        0.52896323,  0.32624069,  0.39802972,  0.47444078,  0.43062702,\n",
       "        0.81032705,  0.68233713,  0.48509227,  0.22934959,  0.37387346,\n",
       "        0.59550882,  0.42617833,  0.14135373,  0.62170176,  0.28804689,\n",
       "        0.49169396,  0.60812426,  0.41768641,  0.63122368,  0.53610969,\n",
       "        0.71302498,  0.61579491,  0.3768718 ,  0.54280416,  0.25665824])"
      ]
     },
     "execution_count": 40,
     "metadata": {},
     "output_type": "execute_result"
    }
   ],
   "source": [
    "#normal distribution\n",
    "np.random.normal(0.5, 0.2, 1000)"
   ]
  },
  {
   "cell_type": "code",
   "execution_count": null,
   "id": "7cf5e238-bb44-4725-83ce-914172a5b6e9",
   "metadata": {},
   "outputs": [],
   "source": []
  }
 ],
 "metadata": {
  "kernelspec": {
   "display_name": "Python 3 (ipykernel)",
   "language": "python",
   "name": "python3"
  },
  "language_info": {
   "codemirror_mode": {
    "name": "ipython",
    "version": 3
   },
   "file_extension": ".py",
   "mimetype": "text/x-python",
   "name": "python",
   "nbconvert_exporter": "python",
   "pygments_lexer": "ipython3",
   "version": "3.10.8"
  }
 },
 "nbformat": 4,
 "nbformat_minor": 5
}
